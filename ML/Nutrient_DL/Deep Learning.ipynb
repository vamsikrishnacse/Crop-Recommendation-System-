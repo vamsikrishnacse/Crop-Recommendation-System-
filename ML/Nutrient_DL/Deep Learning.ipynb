{
 "cells": [
  {
   "cell_type": "code",
   "execution_count": 1,
   "metadata": {},
   "outputs": [
    {
     "name": "stderr",
     "output_type": "stream",
     "text": [
      "C:\\ProgramData\\Anaconda3\\lib\\site-packages\\tensorflow\\python\\framework\\dtypes.py:516: FutureWarning: Passing (type, 1) or '1type' as a synonym of type is deprecated; in a future version of numpy, it will be understood as (type, (1,)) / '(1,)type'.\n",
      "  _np_qint8 = np.dtype([(\"qint8\", np.int8, 1)])\n",
      "C:\\ProgramData\\Anaconda3\\lib\\site-packages\\tensorflow\\python\\framework\\dtypes.py:517: FutureWarning: Passing (type, 1) or '1type' as a synonym of type is deprecated; in a future version of numpy, it will be understood as (type, (1,)) / '(1,)type'.\n",
      "  _np_quint8 = np.dtype([(\"quint8\", np.uint8, 1)])\n",
      "C:\\ProgramData\\Anaconda3\\lib\\site-packages\\tensorflow\\python\\framework\\dtypes.py:518: FutureWarning: Passing (type, 1) or '1type' as a synonym of type is deprecated; in a future version of numpy, it will be understood as (type, (1,)) / '(1,)type'.\n",
      "  _np_qint16 = np.dtype([(\"qint16\", np.int16, 1)])\n",
      "C:\\ProgramData\\Anaconda3\\lib\\site-packages\\tensorflow\\python\\framework\\dtypes.py:519: FutureWarning: Passing (type, 1) or '1type' as a synonym of type is deprecated; in a future version of numpy, it will be understood as (type, (1,)) / '(1,)type'.\n",
      "  _np_quint16 = np.dtype([(\"quint16\", np.uint16, 1)])\n",
      "C:\\ProgramData\\Anaconda3\\lib\\site-packages\\tensorflow\\python\\framework\\dtypes.py:520: FutureWarning: Passing (type, 1) or '1type' as a synonym of type is deprecated; in a future version of numpy, it will be understood as (type, (1,)) / '(1,)type'.\n",
      "  _np_qint32 = np.dtype([(\"qint32\", np.int32, 1)])\n",
      "C:\\ProgramData\\Anaconda3\\lib\\site-packages\\tensorflow\\python\\framework\\dtypes.py:525: FutureWarning: Passing (type, 1) or '1type' as a synonym of type is deprecated; in a future version of numpy, it will be understood as (type, (1,)) / '(1,)type'.\n",
      "  np_resource = np.dtype([(\"resource\", np.ubyte, 1)])\n",
      "C:\\ProgramData\\Anaconda3\\lib\\site-packages\\tensorboard\\compat\\tensorflow_stub\\dtypes.py:541: FutureWarning: Passing (type, 1) or '1type' as a synonym of type is deprecated; in a future version of numpy, it will be understood as (type, (1,)) / '(1,)type'.\n",
      "  _np_qint8 = np.dtype([(\"qint8\", np.int8, 1)])\n",
      "C:\\ProgramData\\Anaconda3\\lib\\site-packages\\tensorboard\\compat\\tensorflow_stub\\dtypes.py:542: FutureWarning: Passing (type, 1) or '1type' as a synonym of type is deprecated; in a future version of numpy, it will be understood as (type, (1,)) / '(1,)type'.\n",
      "  _np_quint8 = np.dtype([(\"quint8\", np.uint8, 1)])\n",
      "C:\\ProgramData\\Anaconda3\\lib\\site-packages\\tensorboard\\compat\\tensorflow_stub\\dtypes.py:543: FutureWarning: Passing (type, 1) or '1type' as a synonym of type is deprecated; in a future version of numpy, it will be understood as (type, (1,)) / '(1,)type'.\n",
      "  _np_qint16 = np.dtype([(\"qint16\", np.int16, 1)])\n",
      "C:\\ProgramData\\Anaconda3\\lib\\site-packages\\tensorboard\\compat\\tensorflow_stub\\dtypes.py:544: FutureWarning: Passing (type, 1) or '1type' as a synonym of type is deprecated; in a future version of numpy, it will be understood as (type, (1,)) / '(1,)type'.\n",
      "  _np_quint16 = np.dtype([(\"quint16\", np.uint16, 1)])\n",
      "C:\\ProgramData\\Anaconda3\\lib\\site-packages\\tensorboard\\compat\\tensorflow_stub\\dtypes.py:545: FutureWarning: Passing (type, 1) or '1type' as a synonym of type is deprecated; in a future version of numpy, it will be understood as (type, (1,)) / '(1,)type'.\n",
      "  _np_qint32 = np.dtype([(\"qint32\", np.int32, 1)])\n",
      "C:\\ProgramData\\Anaconda3\\lib\\site-packages\\tensorboard\\compat\\tensorflow_stub\\dtypes.py:550: FutureWarning: Passing (type, 1) or '1type' as a synonym of type is deprecated; in a future version of numpy, it will be understood as (type, (1,)) / '(1,)type'.\n",
      "  np_resource = np.dtype([(\"resource\", np.ubyte, 1)])\n"
     ]
    }
   ],
   "source": [
    "import tensorflow as tf\n",
    "import pandas as pd\n",
    "import numpy as np\n",
    "import os\n",
    "import matplotlib.pyplot as plt"
   ]
  },
  {
   "cell_type": "code",
   "execution_count": 3,
   "metadata": {},
   "outputs": [],
   "source": [
    "nut=pd.read_csv(r\"C:\\Users\\Asus\\Desktop\\Crop_Prediction_Using_Nutrients\\ML\\Nutrient_DL\\Data_Prep\\Nutrients_table.csv\")"
   ]
  },
  {
   "cell_type": "code",
   "execution_count": 4,
   "metadata": {},
   "outputs": [],
   "source": [
    "del nut['Unnamed: 0']"
   ]
  },
  {
   "cell_type": "code",
   "execution_count": 5,
   "metadata": {},
   "outputs": [],
   "source": [
    "c_names=list(set(nut[\"Crop_Name\"]))\n",
    "c_names.sort()"
   ]
  },
  {
   "cell_type": "code",
   "execution_count": 28,
   "metadata": {},
   "outputs": [],
   "source": [
    "num=nut.to_numpy()"
   ]
  },
  {
   "cell_type": "code",
   "execution_count": 32,
   "metadata": {},
   "outputs": [],
   "source": [
    "for i in range(num.shape[0]):\n",
    "    num[i][1]=c_names.index(num[i][1])"
   ]
  },
  {
   "cell_type": "code",
   "execution_count": 6,
   "metadata": {},
   "outputs": [
    {
     "data": {
      "text/plain": [
       "['Cotton',\n",
       " 'Groudnut',\n",
       " 'Maize',\n",
       " 'Potato',\n",
       " 'Rice',\n",
       " 'Soyabeans',\n",
       " 'Sugarcane',\n",
       " 'Sunflower',\n",
       " 'Wheat']"
      ]
     },
     "execution_count": 6,
     "metadata": {},
     "output_type": "execute_result"
    }
   ],
   "source": [
    "c_names"
   ]
  },
  {
   "cell_type": "code",
   "execution_count": 34,
   "metadata": {},
   "outputs": [],
   "source": [
    "np.random.shuffle(num)"
   ]
  },
  {
   "cell_type": "code",
   "execution_count": 46,
   "metadata": {},
   "outputs": [],
   "source": [
    "for i in range(num.shape[0]):\n",
    "    z=np.zeros(9)\n",
    "    z[num[i][1]]=1\n",
    "    num[i][1]=z\n",
    "    "
   ]
  },
  {
   "cell_type": "code",
   "execution_count": 59,
   "metadata": {},
   "outputs": [],
   "source": [
    "x=[]\n",
    "y=[]\n",
    "for i in range(num.shape[0]):\n",
    "    x.append(np.asarray([num[i][2],num[i][3],num[i][4]]))\n",
    "    y.append(num[i][1])"
   ]
  },
  {
   "cell_type": "code",
   "execution_count": 60,
   "metadata": {},
   "outputs": [],
   "source": [
    "x=np.asarray(x)\n",
    "y=np.asarray(y)"
   ]
  },
  {
   "cell_type": "code",
   "execution_count": 64,
   "metadata": {},
   "outputs": [
    {
     "data": {
      "text/plain": [
       "array([8.218, 8.317, 2.722])"
      ]
     },
     "execution_count": 64,
     "metadata": {},
     "output_type": "execute_result"
    }
   ],
   "source": [
    "x[i]"
   ]
  },
  {
   "cell_type": "code",
   "execution_count": 79,
   "metadata": {},
   "outputs": [],
   "source": [
    "x_train=x[0:1500]\n",
    "y_train=y[0:1500]\n",
    "x_test=x[1500:]\n",
    "y_test=y[1500:]"
   ]
  },
  {
   "cell_type": "code",
   "execution_count": 74,
   "metadata": {},
   "outputs": [
    {
     "data": {
      "text/plain": [
       "(300, 3)"
      ]
     },
     "execution_count": 74,
     "metadata": {},
     "output_type": "execute_result"
    }
   ],
   "source": [
    "x_test.shape"
   ]
  },
  {
   "cell_type": "code",
   "execution_count": 75,
   "metadata": {},
   "outputs": [
    {
     "data": {
      "text/plain": [
       "(1500, 3)"
      ]
     },
     "execution_count": 75,
     "metadata": {},
     "output_type": "execute_result"
    }
   ],
   "source": [
    "x_train.shape"
   ]
  },
  {
   "cell_type": "code",
   "execution_count": 127,
   "metadata": {},
   "outputs": [],
   "source": [
    "i=tf.keras.layers.Input(3)\n",
    "dl1=tf.keras.layers.Dense(30,activation=\"relu\")(i)\n",
    "dl2=tf.keras.layers.Dense(60,activation=\"relu\")(dl1)\n",
    "dl3=tf.keras.layers.Dense(90,activation=\"relu\")(dl2)\n",
    "dl4=tf.keras.layers.Dense(45,activation=\"relu\")(dl3)\n",
    "dl5=tf.keras.layers.Dense(18,activation=\"relu\")(dl4)\n",
    "out=tf.keras.layers.Dense(9,activation=\"softmax\")(dl5)\n",
    "\n",
    "model=tf.keras.models.Model(inputs=i,outputs=out)"
   ]
  },
  {
   "cell_type": "code",
   "execution_count": 128,
   "metadata": {},
   "outputs": [
    {
     "name": "stdout",
     "output_type": "stream",
     "text": [
      "Model: \"model_6\"\n",
      "_________________________________________________________________\n",
      "Layer (type)                 Output Shape              Param #   \n",
      "=================================================================\n",
      "input_9 (InputLayer)         [(None, 3)]               0         \n",
      "_________________________________________________________________\n",
      "dense_48 (Dense)             (None, 30)                120       \n",
      "_________________________________________________________________\n",
      "dense_49 (Dense)             (None, 60)                1860      \n",
      "_________________________________________________________________\n",
      "dense_50 (Dense)             (None, 90)                5490      \n",
      "_________________________________________________________________\n",
      "dense_51 (Dense)             (None, 45)                4095      \n",
      "_________________________________________________________________\n",
      "dense_52 (Dense)             (None, 18)                828       \n",
      "_________________________________________________________________\n",
      "dense_53 (Dense)             (None, 9)                 171       \n",
      "=================================================================\n",
      "Total params: 12,564\n",
      "Trainable params: 12,564\n",
      "Non-trainable params: 0\n",
      "_________________________________________________________________\n"
     ]
    }
   ],
   "source": [
    "model.summary()"
   ]
  },
  {
   "cell_type": "code",
   "execution_count": 129,
   "metadata": {},
   "outputs": [],
   "source": [
    "model.compile(loss=\"categorical_crossentropy\",optimizer=\"adam\", metrics=['accuracy'])"
   ]
  },
  {
   "cell_type": "code",
   "execution_count": 130,
   "metadata": {},
   "outputs": [],
   "source": [
    "cb=[\n",
    "    tf.keras.callbacks.ModelCheckpoint(filepath='models/nut_model.{epoch:02d}-{val_loss:.2f}.h5')\n",
    "]"
   ]
  },
  {
   "cell_type": "code",
   "execution_count": 131,
   "metadata": {},
   "outputs": [
    {
     "name": "stdout",
     "output_type": "stream",
     "text": [
      "Train on 1620 samples, validate on 180 samples\n",
      "Epoch 1/50\n",
      "1620/1620 [==============================] - 1s 627us/sample - loss: 1.3048 - acc: 0.4994 - val_loss: 0.9060 - val_acc: 0.6389\n",
      "Epoch 2/50\n",
      "1620/1620 [==============================] - 0s 154us/sample - loss: 0.5572 - acc: 0.7951 - val_loss: 0.4026 - val_acc: 0.8333\n",
      "Epoch 3/50\n",
      "1620/1620 [==============================] - 0s 161us/sample - loss: 0.3369 - acc: 0.8463 - val_loss: 0.2674 - val_acc: 0.8778\n",
      "Epoch 4/50\n",
      "1620/1620 [==============================] - 0s 147us/sample - loss: 0.2883 - acc: 0.8574 - val_loss: 0.2326 - val_acc: 0.8778\n",
      "Epoch 5/50\n",
      "1620/1620 [==============================] - 0s 168us/sample - loss: 0.2672 - acc: 0.8660 - val_loss: 0.2656 - val_acc: 0.8667\n",
      "Epoch 6/50\n",
      "1620/1620 [==============================] - 0s 187us/sample - loss: 0.2423 - acc: 0.8728 - val_loss: 0.3173 - val_acc: 0.8167\n",
      "Epoch 7/50\n",
      "1620/1620 [==============================] - 0s 142us/sample - loss: 0.2167 - acc: 0.8827 - val_loss: 0.2482 - val_acc: 0.8667\n",
      "Epoch 8/50\n",
      "1620/1620 [==============================] - 0s 139us/sample - loss: 0.2297 - acc: 0.8796 - val_loss: 0.2677 - val_acc: 0.8556\n",
      "Epoch 9/50\n",
      "1620/1620 [==============================] - 0s 143us/sample - loss: 0.1972 - acc: 0.8969 - val_loss: 0.1931 - val_acc: 0.8778\n",
      "Epoch 10/50\n",
      "1620/1620 [==============================] - 0s 134us/sample - loss: 0.2050 - acc: 0.8944 - val_loss: 0.1936 - val_acc: 0.8889\n",
      "Epoch 11/50\n",
      "1620/1620 [==============================] - 0s 149us/sample - loss: 0.1831 - acc: 0.9062 - val_loss: 0.1771 - val_acc: 0.8944\n",
      "Epoch 12/50\n",
      "1620/1620 [==============================] - 0s 130us/sample - loss: 0.1955 - acc: 0.8963 - val_loss: 0.2276 - val_acc: 0.8722\n",
      "Epoch 13/50\n",
      "1620/1620 [==============================] - 0s 152us/sample - loss: 0.1907 - acc: 0.9154 - val_loss: 0.1607 - val_acc: 0.9167\n",
      "Epoch 14/50\n",
      "1620/1620 [==============================] - 0s 134us/sample - loss: 0.1599 - acc: 0.9241 - val_loss: 0.1363 - val_acc: 0.9333\n",
      "Epoch 15/50\n",
      "1620/1620 [==============================] - 0s 147us/sample - loss: 0.1405 - acc: 0.9340 - val_loss: 0.1669 - val_acc: 0.9333\n",
      "Epoch 16/50\n",
      "1620/1620 [==============================] - 0s 139us/sample - loss: 0.1404 - acc: 0.9358 - val_loss: 0.1404 - val_acc: 0.9222\n",
      "Epoch 17/50\n",
      "1620/1620 [==============================] - 0s 177us/sample - loss: 0.1169 - acc: 0.9543 - val_loss: 0.1453 - val_acc: 0.9000\n",
      "Epoch 18/50\n",
      "1620/1620 [==============================] - 0s 150us/sample - loss: 0.1666 - acc: 0.9142 - val_loss: 0.1496 - val_acc: 0.9167\n",
      "Epoch 19/50\n",
      "1620/1620 [==============================] - 0s 141us/sample - loss: 0.1303 - acc: 0.9377 - val_loss: 0.2104 - val_acc: 0.8722\n",
      "Epoch 20/50\n",
      "1620/1620 [==============================] - 0s 139us/sample - loss: 0.1019 - acc: 0.9623 - val_loss: 0.0931 - val_acc: 0.9722\n",
      "Epoch 21/50\n",
      "1620/1620 [==============================] - 0s 136us/sample - loss: 0.1142 - acc: 0.9586 - val_loss: 0.0962 - val_acc: 0.9611\n",
      "Epoch 22/50\n",
      "1620/1620 [==============================] - 0s 143us/sample - loss: 0.0920 - acc: 0.9611 - val_loss: 0.1524 - val_acc: 0.9222\n",
      "Epoch 23/50\n",
      "1620/1620 [==============================] - 0s 148us/sample - loss: 0.0663 - acc: 0.9759 - val_loss: 0.0718 - val_acc: 0.9667\n",
      "Epoch 24/50\n",
      "1620/1620 [==============================] - 0s 144us/sample - loss: 0.0737 - acc: 0.9722 - val_loss: 0.0617 - val_acc: 0.9833\n",
      "Epoch 25/50\n",
      "1620/1620 [==============================] - 0s 155us/sample - loss: 0.0702 - acc: 0.9704 - val_loss: 0.1070 - val_acc: 0.9500\n",
      "Epoch 26/50\n",
      "1620/1620 [==============================] - 0s 147us/sample - loss: 0.0857 - acc: 0.9623 - val_loss: 0.0644 - val_acc: 0.9722\n",
      "Epoch 27/50\n",
      "1620/1620 [==============================] - 0s 158us/sample - loss: 0.0552 - acc: 0.9796 - val_loss: 0.0649 - val_acc: 0.9667\n",
      "Epoch 28/50\n",
      "1620/1620 [==============================] - 0s 144us/sample - loss: 0.0599 - acc: 0.9784 - val_loss: 0.0777 - val_acc: 0.9611\n",
      "Epoch 29/50\n",
      "1620/1620 [==============================] - 0s 152us/sample - loss: 0.0548 - acc: 0.9759 - val_loss: 0.0618 - val_acc: 0.9722\n",
      "Epoch 30/50\n",
      "1620/1620 [==============================] - 0s 150us/sample - loss: 0.0454 - acc: 0.9815 - val_loss: 0.0449 - val_acc: 0.9722\n",
      "Epoch 31/50\n",
      "1620/1620 [==============================] - 0s 147us/sample - loss: 0.0465 - acc: 0.9833 - val_loss: 0.1428 - val_acc: 0.9222\n",
      "Epoch 32/50\n",
      "1620/1620 [==============================] - 0s 154us/sample - loss: 0.0989 - acc: 0.9586 - val_loss: 0.0757 - val_acc: 0.9667\n",
      "Epoch 33/50\n",
      "1620/1620 [==============================] - 0s 144us/sample - loss: 0.0696 - acc: 0.9741 - val_loss: 0.0628 - val_acc: 0.9722\n",
      "Epoch 34/50\n",
      "1620/1620 [==============================] - 0s 158us/sample - loss: 0.0629 - acc: 0.9765 - val_loss: 0.1836 - val_acc: 0.9333\n",
      "Epoch 35/50\n",
      "1620/1620 [==============================] - 0s 146us/sample - loss: 0.0777 - acc: 0.9642 - val_loss: 0.0606 - val_acc: 0.9778\n",
      "Epoch 36/50\n",
      "1620/1620 [==============================] - 0s 226us/sample - loss: 0.0407 - acc: 0.9864 - val_loss: 0.0489 - val_acc: 0.9722\n",
      "Epoch 37/50\n",
      "1620/1620 [==============================] - 0s 163us/sample - loss: 0.0567 - acc: 0.9784 - val_loss: 0.1368 - val_acc: 0.9556\n",
      "Epoch 38/50\n",
      "1620/1620 [==============================] - 0s 177us/sample - loss: 0.0759 - acc: 0.9716 - val_loss: 0.0545 - val_acc: 0.9833\n",
      "Epoch 39/50\n",
      "1620/1620 [==============================] - 0s 171us/sample - loss: 0.0457 - acc: 0.9796 - val_loss: 0.0894 - val_acc: 0.9611\n",
      "Epoch 40/50\n",
      "1620/1620 [==============================] - 0s 154us/sample - loss: 0.0538 - acc: 0.9802 - val_loss: 0.0456 - val_acc: 0.9722\n",
      "Epoch 41/50\n",
      "1620/1620 [==============================] - 0s 146us/sample - loss: 0.0300 - acc: 0.9907 - val_loss: 0.0597 - val_acc: 0.9722\n",
      "Epoch 42/50\n",
      "1620/1620 [==============================] - 0s 162us/sample - loss: 0.0519 - acc: 0.9784 - val_loss: 0.0496 - val_acc: 0.9722\n",
      "Epoch 43/50\n",
      "1620/1620 [==============================] - 0s 149us/sample - loss: 0.0347 - acc: 0.9858 - val_loss: 0.1266 - val_acc: 0.9556\n",
      "Epoch 44/50\n",
      "1620/1620 [==============================] - 0s 134us/sample - loss: 0.0596 - acc: 0.9753 - val_loss: 0.1349 - val_acc: 0.9500\n",
      "Epoch 45/50\n",
      "1620/1620 [==============================] - 0s 145us/sample - loss: 0.0527 - acc: 0.9759 - val_loss: 0.0505 - val_acc: 0.9722\n",
      "Epoch 46/50\n",
      "1620/1620 [==============================] - 0s 139us/sample - loss: 0.0493 - acc: 0.9778 - val_loss: 0.0424 - val_acc: 0.9833\n",
      "Epoch 47/50\n",
      "1620/1620 [==============================] - 0s 146us/sample - loss: 0.0437 - acc: 0.9802 - val_loss: 0.0459 - val_acc: 0.9778\n",
      "Epoch 48/50\n",
      "1620/1620 [==============================] - 0s 144us/sample - loss: 0.0338 - acc: 0.9901 - val_loss: 0.0766 - val_acc: 0.9667\n",
      "Epoch 49/50\n",
      "1620/1620 [==============================] - 0s 163us/sample - loss: 0.0558 - acc: 0.9778 - val_loss: 0.0530 - val_acc: 0.9778\n",
      "Epoch 50/50\n",
      "1620/1620 [==============================] - 0s 148us/sample - loss: 0.0464 - acc: 0.9846 - val_loss: 0.0650 - val_acc: 0.9722\n"
     ]
    }
   ],
   "source": [
    "history=model.fit(x=x,y=y,batch_size=16,epochs=50,validation_split=0.1,callbacks=cb)"
   ]
  },
  {
   "cell_type": "code",
   "execution_count": 133,
   "metadata": {},
   "outputs": [
    {
     "data": {
      "image/png": "[encoded data removed]",
      "text/plain": [
       "<Figure size 432x288 with 1 Axes>"
      ]
     },
     "metadata": {
      "needs_background": "light"
     },
     "output_type": "display_data"
    }
   ],
   "source": [
    "plt.plot(history.history['loss'])\n",
    "plt.plot(history.history['val_loss'])\n",
    "plt.title('model loss')\n",
    "plt.ylabel('loss')\n",
    "plt.xlabel('epoch')\n",
    "plt.legend(['train', 'test'], loc='upper left')\n",
    "plt.savefig(\"loss.jpg\")"
   ]
  },
  {
   "cell_type": "code",
   "execution_count": 106,
   "metadata": {
    "scrolled": true
   },
   "outputs": [
    {
     "ename": "TypeError",
     "evalue": "'History' object is not subscriptable",
     "output_type": "error",
     "traceback": [
      "\u001b[1;31m---------------------------------------------------------------------------\u001b[0m",
      "\u001b[1;31mTypeError\u001b[0m                                 Traceback (most recent call last)",
      "\u001b[1;32m<ipython-input-106-cac45d0be5d6>\u001b[0m in \u001b[0;36m<module>\u001b[1;34m\u001b[0m\n\u001b[1;32m----> 1\u001b[1;33m \u001b[0mhistory\u001b[0m\u001b[1;33m[\u001b[0m\u001b[1;34m\"loss\"\u001b[0m\u001b[1;33m]\u001b[0m\u001b[1;33m\u001b[0m\u001b[1;33m\u001b[0m\u001b[0m\n\u001b[0m",
      "\u001b[1;31mTypeError\u001b[0m: 'History' object is not subscriptable"
     ]
    }
   ],
   "source": []
  },
  {
   "cell_type": "code",
   "execution_count": 135,
   "metadata": {},
   "outputs": [],
   "source": [
    "p=model.predict(x[1600:1605])"
   ]
  },
  {
   "cell_type": "code",
   "execution_count": 137,
   "metadata": {},
   "outputs": [
    {
     "data": {
      "text/plain": [
       "8"
      ]
     },
     "execution_count": 137,
     "metadata": {},
     "output_type": "execute_result"
    }
   ],
   "source": [
    "np.argmax(p[0])"
   ]
  },
  {
   "cell_type": "code",
   "execution_count": 138,
   "metadata": {},
   "outputs": [
    {
     "data": {
      "text/plain": [
       "array([14.656,  5.232,  0.367])"
      ]
     },
     "execution_count": 138,
     "metadata": {},
     "output_type": "execute_result"
    }
   ],
   "source": [
    "x[1600]"
   ]
  },
  {
   "cell_type": "code",
   "execution_count": 139,
   "metadata": {},
   "outputs": [
    {
     "data": {
      "text/plain": [
       "'Wheat'"
      ]
     },
     "execution_count": 139,
     "metadata": {},
     "output_type": "execute_result"
    }
   ],
   "source": [
    "c_names[8]"
   ]
  },
  {
   "cell_type": "code",
   "execution_count": null,
   "metadata": {},
   "outputs": [],
   "source": []
  }
 ],
 "metadata": {
  "kernelspec": {
   "display_name": "Python 3",
   "language": "python",
   "name": "python3"
  },
  "language_info": {
   "codemirror_mode": {
    "name": "ipython",
    "version": 3
   },
   "file_extension": ".py",
   "mimetype": "text/x-python",
   "name": "python",
   "nbconvert_exporter": "python",
   "pygments_lexer": "ipython3",
   "version": "3.7.6"
  }
 },
 "nbformat": 4,
 "nbformat_minor": 4
}
