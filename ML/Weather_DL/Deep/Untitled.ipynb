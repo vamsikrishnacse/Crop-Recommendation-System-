{
 "cells": [
  {
   "cell_type": "code",
   "execution_count": 1,
   "metadata": {},
   "outputs": [],
   "source": [
    "import pandas as pd\n",
    "import numpy as np"
   ]
  },
  {
   "cell_type": "code",
   "execution_count": 3,
   "metadata": {},
   "outputs": [],
   "source": [
    "cbe=pd.read_csv(r\"C:\\Users\\Asus\\Desktop\\Crop_Prediction_Using_Nutrients\\ML\\Weather_DL\\Data Collection\\Up_Data\\Coimbatore.csv\")\n",
    "hyd=pd.read_csv(r\"C:\\Users\\Asus\\Desktop\\Crop_Prediction_Using_Nutrients\\ML\\Weather_DL\\Data Collection\\Up_Data\\Hyderabad.csv\")\n",
    "tri=pd.read_csv(r\"C:\\Users\\Asus\\Desktop\\Crop_Prediction_Using_Nutrients\\ML\\Weather_DL\\Data Collection\\Up_Data\\Tiruchirappalli.csv\")\n",
    "nel=pd.read_csv(r\"C:\\Users\\Asus\\Desktop\\Crop_Prediction_Using_Nutrients\\ML\\Weather_DL\\Data Collection\\Up_Data\\Nellore.csv\")\n",
    "raj=pd.read_csv(r\"C:\\Users\\Asus\\Desktop\\Crop_Prediction_Using_Nutrients\\ML\\Weather_DL\\Data Collection\\Up_Data\\Rajahmundry.csv\")\n"
   ]
  },
  {
   "cell_type": "code",
   "execution_count": 4,
   "metadata": {},
   "outputs": [],
   "source": [
    "c_w=cbe[\"Weather\"].unique()\n",
    "h_w=hyd[\"Weather\"].unique()\n",
    "t_w=tri[\"Weather\"].unique()\n",
    "n_w=nel[\"Weather\"].unique()\n",
    "r_w=raj[\"Weather\"].unique()"
   ]
  },
  {
   "cell_type": "code",
   "execution_count": 5,
   "metadata": {},
   "outputs": [],
   "source": [
    "tot_w=np.array([c_w,h_w,t_w,n_w,r_w])\n"
   ]
  },
  {
   "cell_type": "code",
   "execution_count": 6,
   "metadata": {},
   "outputs": [],
   "source": [
    "c_w_s=list(set(c_w))\n",
    "h_w_s=list(set(h_w))\n",
    "n_w_s=list(set(n_w))\n",
    "t_w_s=list(set(t_w))\n",
    "r_w_s=list(set(r_w))"
   ]
  },
  {
   "cell_type": "code",
   "execution_count": 7,
   "metadata": {},
   "outputs": [],
   "source": [
    "sup=[c_w_s,h_w_s,n_w_s,t_w_s,r_w_s]"
   ]
  },
  {
   "cell_type": "code",
   "execution_count": 8,
   "metadata": {},
   "outputs": [],
   "source": [
    "x=[]\n",
    "for i in sup:\n",
    "    for j in range(len(i)):\n",
    "        x.append(i[j])"
   ]
  },
  {
   "cell_type": "code",
   "execution_count": 9,
   "metadata": {},
   "outputs": [],
   "source": [
    "li=list(set(x))"
   ]
  },
  {
   "cell_type": "code",
   "execution_count": 11,
   "metadata": {},
   "outputs": [
    {
     "data": {
      "text/plain": [
       "['Sunny',\n",
       " 'Patchy light rain',\n",
       " 'Moderate rain',\n",
       " 'Light rain shower',\n",
       " 'Heavy rain at times',\n",
       " 'Partly cloudy',\n",
       " 'Torrential rain shower',\n",
       " 'Patchy rain possible',\n",
       " 'Moderate rain at times',\n",
       " 'Moderate or heavy rain shower',\n",
       " 'Light rain',\n",
       " 'Light drizzle',\n",
       " 'Overcast',\n",
       " 'Heavy rain',\n",
       " 'Moderate or heavy rain with thunder',\n",
       " 'Patchy light rain with thunder',\n",
       " 'Thundery outbreaks possible',\n",
       " 'Cloudy',\n",
       " 'Patchy light drizzle']"
      ]
     },
     "execution_count": 11,
     "metadata": {},
     "output_type": "execute_result"
    }
   ],
   "source": [
    "li"
   ]
  },
  {
   "cell_type": "code",
   "execution_count": 10,
   "metadata": {},
   "outputs": [
    {
     "ename": "SyntaxError",
     "evalue": "unexpected EOF while parsing (<ipython-input-10-9b14eb2ef4e0>, line 3)",
     "output_type": "error",
     "traceback": [
      "\u001b[1;36m  File \u001b[1;32m\"<ipython-input-10-9b14eb2ef4e0>\"\u001b[1;36m, line \u001b[1;32m3\u001b[0m\n\u001b[1;33m    \u001b[0m\n\u001b[1;37m    ^\u001b[0m\n\u001b[1;31mSyntaxError\u001b[0m\u001b[1;31m:\u001b[0m unexpected EOF while parsing\n"
     ]
    }
   ],
   "source": [
    "for i in li:\n",
    "    if any([\"thunder\" in i.lower(),\"rain\" in i.lower(),\"drizzle\" in i.lower()]):\n",
    "        \n",
    "        "
   ]
  },
  {
   "cell_type": "code",
   "execution_count": 12,
   "metadata": {},
   "outputs": [],
   "source": [
    "c=cbe.to_numpy()\n",
    "h=hyd.to_numpy()\n",
    "n=nel.to_numpy()\n",
    "t=tri.to_numpy()\n",
    "r=raj.to_numpy()\n"
   ]
  },
  {
   "cell_type": "code",
   "execution_count": 39,
   "metadata": {},
   "outputs": [],
   "source": [
    "for k in range(r.shape[0]):\n",
    "    i=r[k][2]\n",
    "    if any([\"thunder\" in i.lower(),\"rain\" in i.lower(),\"drizzle\" in i.lower()]):\n",
    "        r[k][2]=1\n",
    "    else:\n",
    "        r[k][2]=0\n",
    "    \n",
    "    "
   ]
  },
  {
   "cell_type": "code",
   "execution_count": 45,
   "metadata": {},
   "outputs": [],
   "source": [
    "df=pd.DataFrame(n,columns=[\"No\",\"Date\",\"Weather\",\"TempF\",\"TempC\",\"Humidity\",\"Pressure\",\"Location\"])"
   ]
  },
  {
   "cell_type": "code",
   "execution_count": 46,
   "metadata": {},
   "outputs": [],
   "source": [
    "df.to_csv(\"Nellore.csv\")"
   ]
  },
  {
   "cell_type": "code",
   "execution_count": 41,
   "metadata": {},
   "outputs": [
    {
     "data": {
      "text/plain": [
       "array([0, 1], dtype=object)"
      ]
     },
     "execution_count": 41,
     "metadata": {},
     "output_type": "execute_result"
    }
   ],
   "source": [
    "df[\"Weather\"].unique()"
   ]
  },
  {
   "cell_type": "code",
   "execution_count": 43,
   "metadata": {},
   "outputs": [
    {
     "data": {
      "text/plain": [
       "array([[0, '2019-01-01', 0, ..., 64, 1018, 'Nellore'],\n",
       "       [1, '2019-01-02', 0, ..., 67, 1018, 'Nellore'],\n",
       "       [2, '2019-01-03', 0, ..., 70, 1018, 'Nellore'],\n",
       "       ...,\n",
       "       [543, '2020-06-28', 1, ..., 61, 1003, 'Nellore'],\n",
       "       [544, '2020-06-29', 0, ..., 59, 1002, 'Nellore'],\n",
       "       [545, '2020-06-30', 0, ..., 61, 1002, 'Nellore']], dtype=object)"
      ]
     },
     "execution_count": 43,
     "metadata": {},
     "output_type": "execute_result"
    }
   ],
   "source": [
    "n"
   ]
  },
  {
   "cell_type": "code",
   "execution_count": null,
   "metadata": {},
   "outputs": [],
   "source": []
  }
 ],
 "metadata": {
  "kernelspec": {
   "display_name": "Python 3",
   "language": "python",
   "name": "python3"
  },
  "language_info": {
   "codemirror_mode": {
    "name": "ipython",
    "version": 3
   },
   "file_extension": ".py",
   "mimetype": "text/x-python",
   "name": "python",
   "nbconvert_exporter": "python",
   "pygments_lexer": "ipython3",
   "version": "3.7.6"
  }
 },
 "nbformat": 4,
 "nbformat_minor": 4
}
